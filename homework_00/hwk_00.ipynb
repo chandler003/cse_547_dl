import numpy as np
from keras.datasets import imdb

# Load data
(x_train, y_train), (x_test, y_test) = imdb.load_data(num_words=10000)

# Prepare data: Vectorize sequences and use one-hot encoding
def vectorize_sequences(sequences, dimension=10000):
    results = np.zeros((len(sequences), dimension))
    for i, sequence in enumerate(sequences):
        results[i, sequence] = 1.
    return results

x_train = vectorize_sequences(x_train)
x_test = vectorize_sequences(x_test)
